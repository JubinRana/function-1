{
  "nbformat": 4,
  "nbformat_minor": 0,
  "metadata": {
    "colab": {
      "provenance": []
    },
    "kernelspec": {
      "name": "python3",
      "display_name": "Python 3"
    },
    "language_info": {
      "name": "python"
    }
  },
  "cells": [
    {
      "cell_type": "markdown",
      "source": [
        "**THEORY QUESTIONS**"
      ],
      "metadata": {
        "id": "WnLm24yLhrO3"
      }
    },
    {
      "cell_type": "markdown",
      "source": [
        "1/ What is difference between a function and a method in python?\n",
        "- Function:is a reusable block of code that perform a specific task.Functions can take input argument and return output values. eg. sum([1,2,3])\n",
        "\n",
        "Method:os a function that is associated with an object or class,methods are defined with in a class or an object and can be called in specific instance of that class. eg. my_list.append(2)"
      ],
      "metadata": {
        "id": "5vKquVAPn348"
      }
    },
    {
      "cell_type": "markdown",
      "source": [
        "2/ Explain the concept of function arguments and parameters in python.\n",
        "- Parameters:These variables listed in the parantheses of a function definition,they define the type and number of inputs a function can accept,and are part of the function's signature.Parameters can have default values.\n",
        "\n",
        "Arguments:These are the actual values passed to the function when it is called,arguments can be any scope,including variables that exist outside the function or literals.Arguments do not have default values.\n",
        "different types of arguments are: default,keyword,positional,arbitrary positional and arbitrary keyword arguments.\n"
      ],
      "metadata": {
        "id": "Nn4FdOHhpbbl"
      }
    },
    {
      "cell_type": "markdown",
      "source": [
        "3/ What are the different ways to define and call a function in python?\n",
        "- For defining function different ways are: use the keyword (def) to declare the function, add the function name, add parameters in parentheses, end the line with a colon, add statements for the function to execute.\n",
        "\n",
        "For calling a function: uses the function's name followed by parentheses my_function(),use dict(),use partial()function,use eval(),use global(),use getattr().\n"
      ],
      "metadata": {
        "id": "_T5NFyRXr4gk"
      }
    },
    {
      "cell_type": "markdown",
      "source": [
        "4/ What is the purpose of return statement in a python function?\n",
        "- The purpose of return statement in a python function is to specify the function's output and send it back to the caller:\n",
        "\n",
        "End the function- the return statement marks the end of a function and returns control to the calling function.\n",
        "\n",
        "Return a value- the return statement specifies the value or values to pass back from function, the returned value can be any python object, including integers,floats,strings and even other functions.\n",
        "\n",
        "Allow for further computation- the program can use the output of function for further computation or storage.\n",
        "\n",
        "eg. add_numbers: take two numbers a and b calulates their sum and return the result using the return statement."
      ],
      "metadata": {
        "id": "y2DBHHFBtz0U"
      }
    },
    {
      "cell_type": "markdown",
      "source": [
        "5/ What are iterators in python and how they differ from iterables?\n",
        "- An iterator is an object that contains a countable number of values, an iterator is an object that can iterated upon,meaning that can be traverse through all the values.Technically, in python an iterator is an object which implements the iterator protocol,which consist if the methods_iter_()and_next_().\n",
        "\n",
        "The iterators powers and control the itreation process,while itreables typically hold data that we want to iterate over one value at a time."
      ],
      "metadata": {
        "id": "W246hBSOvzDU"
      }
    },
    {
      "cell_type": "markdown",
      "source": [
        "6/ Explain the concept of generators in a python and how they are defined.\n",
        "- Generators return data in an itrable format,allowing the sequence to be iterated over,much like a list or tuples.\n",
        "\n",
        "These are simple way to create iterators using function and the yield keyword instead of returning values.\n",
        "\n",
        "The generators are defined using the **def** keyword,like a regular function,but instead of returning a value with return,it uses yield.\n"
      ],
      "metadata": {
        "id": "SII5UGZPxm7p"
      }
    },
    {
      "cell_type": "markdown",
      "source": [
        "7/ What are advantages of using generators over regular functions?\n",
        "- Generators have several advantages over regular functions are:\n",
        "\n",
        "Memory efficiency- generators only evaluates the code that's needed,so they use less memory than regular functions.\n",
        "\n",
        "Improved performance- generators can be faster than regular functions because thay avoid the overhead of reating a list or other data structure to store the results.\n",
        "\n",
        "Lazy loading- generators can be used to lazy load data which means that the data is not loaded until it is actually needed.\n",
        "\n",
        "Infinite sequences- these were make it easy to create infinite sequences by allowing pausing and resuming.\n",
        "\n",
        "Readibility- generators can make uor code easier to read and understand."
      ],
      "metadata": {
        "id": "6xCot3DHzqdd"
      }
    },
    {
      "cell_type": "markdown",
      "source": [
        "8/ What is lambda function in python and when it is typically used?\n",
        "- Lambda function are small,anonymous function defined using lambda keyword used for creating small functions without the need of formally define a function using def.\n",
        "These are efficient whenever we want to create a function that will only contain simple expressions.\n",
        "\n",
        "These were used when we need to create small functions,\n",
        "eg. we use lambdas to create key functions for sorting itrables, or to define lexial closures, we should use lambdas to create simple expressions, and avoiding using them for complex structures like if-else or for-loops."
      ],
      "metadata": {
        "id": "_AKI4OAT3ZAy"
      }
    },
    {
      "cell_type": "markdown",
      "source": [
        "9/ Explain the purpose of usage of map() function in python.\n",
        "- map() in python is a function that works as an iterator to return a result after applying a function to every item of an iterable(tuple,lists,et.),it is used when you want to apply a single transformation function to all the iterable elements.\n",
        "\n",
        "We use it because it map every item in an input iterable to a new item in a resultant iterable,the action performed by map() is usually reffered to as mapping. map(function,iterable)"
      ],
      "metadata": {
        "id": "zZxRUbWjWOaO"
      }
    },
    {
      "cell_type": "markdown",
      "source": [
        "10/ What is difference between map(),reduce(),filter() functions in python?\n",
        "- map(): The map function is a function that works as an iterator to return a result after applyting a function to every item of an iterable which is tuple or list.\n",
        "\n",
        "reduce(): The reduce function reduce from the function tools module applies a given function cumulatively to the items of a sequence, from left-right,to rduce the sequence to a single value.\n",
        "\n",
        "filter(): The filter() function constructs an iterator from elements of an iterable for which a specified function returns true.\n"
      ],
      "metadata": {
        "id": "2c8YCF0rYAq2"
      }
    },
    {
      "cell_type": "markdown",
      "source": [
        "11/ Paper image attachment"
      ],
      "metadata": {
        "id": "rvHRBsydhDcU"
      }
    },
    {
      "cell_type": "markdown",
      "source": [],
      "metadata": {
        "id": "SG_R7Pcce82J"
      }
    },
    {
      "cell_type": "markdown",
      "source": [
        "# **PRACTICAL QUESTIONS**"
      ],
      "metadata": {
        "id": "2j_cr6ydZk9T"
      }
    },
    {
      "cell_type": "markdown",
      "source": [
        "1/ Write a python function that takes a list of numbers as input and returns the sum of all even numbers in the list."
      ],
      "metadata": {
        "id": "e6uYcVyHc-dW"
      }
    },
    {
      "cell_type": "code",
      "source": [
        "mylist = [1,2,3,4,5,6,7,8,9,10,11,12,13,14,15,16,17,18,19,20]\n",
        "evensum = 0\n",
        "for num in mylist:\n",
        "  if num % 2 == 0:\n",
        "    evensum = evensum + num\n",
        "    print(evensum)\n"
      ],
      "metadata": {
        "colab": {
          "base_uri": "https://localhost:8080/"
        },
        "id": "PS-L-XlndW1u",
        "outputId": "72115d75-11c2-4fc1-a0c9-344e5cabf2e0"
      },
      "execution_count": null,
      "outputs": [
        {
          "output_type": "stream",
          "name": "stdout",
          "text": [
            "2\n",
            "6\n",
            "12\n",
            "20\n",
            "30\n",
            "42\n",
            "56\n",
            "72\n",
            "90\n",
            "110\n"
          ]
        }
      ]
    },
    {
      "cell_type": "markdown",
      "source": [
        "2/ Create a python function that accepts a string and returns the reverse of that string."
      ],
      "metadata": {
        "id": "Uo81Li5rgZY5"
      }
    },
    {
      "cell_type": "code",
      "source": [
        "\n",
        "def reverse_string(str):\n",
        "    str1 = \"\"\n",
        "    for i in str:\n",
        "        str1 = i + str1\n",
        "    return str1\n",
        "\n",
        "str=\"hello world become my friend\"\n",
        "print(\"The original string is: \",str)\n",
        "print(\"The reverse string is: \",reverse_string(str))"
      ],
      "metadata": {
        "colab": {
          "base_uri": "https://localhost:8080/"
        },
        "id": "S562dMj3gsZl",
        "outputId": "3dc78a12-359b-42e8-dfdb-76a5de0460c6"
      },
      "execution_count": null,
      "outputs": [
        {
          "output_type": "stream",
          "name": "stdout",
          "text": [
            "The original string is:  hello world become my friend\n",
            "The reverse string is:  dneirf ym emoceb dlrow olleh\n"
          ]
        }
      ]
    },
    {
      "cell_type": "markdown",
      "source": [
        "3/ Implement a python function that takes a list of integers and return a new list containing the square of each number."
      ],
      "metadata": {
        "id": "fEl_ix0Pminz"
      }
    },
    {
      "cell_type": "code",
      "source": [
        "lst=[2,23,2,34,23.4,23]\n",
        "new_lst=[]\n",
        "for i in lst:\n",
        "  new_lst.append(i**2)\n",
        "print(new_lst)"
      ],
      "metadata": {
        "colab": {
          "base_uri": "https://localhost:8080/"
        },
        "id": "m--pAv02ny_y",
        "outputId": "7cdcb2d9-dd33-4084-df00-ed1074970c05"
      },
      "execution_count": null,
      "outputs": [
        {
          "output_type": "stream",
          "name": "stdout",
          "text": [
            "[4, 529, 4, 1156, 547.56, 529]\n"
          ]
        }
      ]
    },
    {
      "cell_type": "code",
      "source": [
        "lst=[2,23,2,34,23.4,23]\n",
        "print(list(map(lambda x:x**2,lst)))\n"
      ],
      "metadata": {
        "colab": {
          "base_uri": "https://localhost:8080/"
        },
        "id": "W_3m-FtAqQok",
        "outputId": "d0da0cf2-e234-4f42-8c76-f192a4d7a14b"
      },
      "execution_count": null,
      "outputs": [
        {
          "output_type": "stream",
          "name": "stdout",
          "text": [
            "[4, 529, 4, 1156, 547.56, 529]\n"
          ]
        }
      ]
    },
    {
      "cell_type": "markdown",
      "source": [
        "4/ write a python function that cheks if a given number is prime or not from 1 to 200."
      ],
      "metadata": {
        "id": "gaiXr56dq2fC"
      }
    },
    {
      "cell_type": "markdown",
      "source": [
        "5/ Create an iterator class in python that genertes the Fibonacci sequence up to a specified number of terms."
      ],
      "metadata": {
        "id": "_NFxYOs7_jeM"
      }
    },
    {
      "cell_type": "code",
      "source": [
        "\n",
        "num=int(input(\"Enter number :- \"))\n",
        "\n",
        "print(\"below is a fibonacci sequence...\")\n",
        "\n",
        "a,b=0,1\n",
        "\n",
        "for i in range(0,num):\n",
        "    if i<=1:\n",
        "        print(i)\n",
        "    else:\n",
        "        result=a+b\n",
        "        a=b\n",
        "        b=result\n",
        "        print(result)"
      ],
      "metadata": {
        "colab": {
          "base_uri": "https://localhost:8080/"
        },
        "id": "rEgN7f3zDOKb",
        "outputId": "63ade59f-81d1-4a96-ec14-5600855ffae3"
      },
      "execution_count": null,
      "outputs": [
        {
          "output_type": "stream",
          "name": "stdout",
          "text": [
            "Enter number :- 5\n",
            "below is a fibonacci sequence...\n",
            "0\n",
            "1\n",
            "1\n",
            "2\n",
            "3\n"
          ]
        }
      ]
    },
    {
      "cell_type": "markdown",
      "source": [
        "6/ Write a generator function in python that yields the power of 2 up to a given exponent."
      ],
      "metadata": {
        "id": "uOxj77u_Fc2c"
      }
    },
    {
      "cell_type": "code",
      "source": [
        "def generator_fuction(n):\n",
        "  for i in range(n):\n",
        "    yield 2**i\n",
        "gen = generator_fuction(10)\n",
        "result = [x for x in gen if x%2==0]\n",
        "print(result)\n"
      ],
      "metadata": {
        "colab": {
          "base_uri": "https://localhost:8080/"
        },
        "id": "Z4NgYRiCuxor",
        "outputId": "835265ce-4d0a-41cc-da33-f53a5fdb017e"
      },
      "execution_count": null,
      "outputs": [
        {
          "output_type": "stream",
          "name": "stdout",
          "text": [
            "[2, 4, 8, 16, 32, 64, 128, 256, 512]\n"
          ]
        }
      ]
    },
    {
      "cell_type": "markdown",
      "source": [
        "7/ Implement a generator function that reads a file line by line and yields each line as a string."
      ],
      "metadata": {
        "id": "YeaHXQ7Ewr8f"
      }
    },
    {
      "cell_type": "code",
      "source": [
        "def read_file_line_by_line(file_path):\n",
        "    with open('example.txt', 'w') as f:\n",
        "       f.write('hello world.\\n')\n",
        "       f.write('how are you?\\n')\n",
        "       f.write('i am fine.\\n')\n",
        "\n",
        "    with open('example.txt', 'r') as f:\n",
        "        for line in f:\n",
        "            yield line.strip()\n",
        "\n",
        "file_path = 'example.txt'\n",
        "for line in read_file_line_by_line(file_path):\n",
        "    print(line)\n"
      ],
      "metadata": {
        "colab": {
          "base_uri": "https://localhost:8080/"
        },
        "id": "ki849uFYxNO8",
        "outputId": "cf50187d-a40a-459f-9037-fe5625639ab3"
      },
      "execution_count": null,
      "outputs": [
        {
          "output_type": "stream",
          "name": "stdout",
          "text": [
            "hello world.\n",
            "how are you?\n",
            "i am fine.\n"
          ]
        }
      ]
    },
    {
      "cell_type": "markdown",
      "source": [
        "8/ Use lambda function in python to sort a list of tuples based on second element of each tuple."
      ],
      "metadata": {
        "id": "0pua2VVW5z-9"
      }
    },
    {
      "cell_type": "code",
      "source": [
        "# sort a tuple by second element\n",
        "\n",
        "students = (\n",
        "    ('Ankit', 45),\n",
        "    ('Mohit', 30),\n",
        "    ('Jubin', 50),\n",
        "    ('Rahul', 20),\n",
        "    ('Vikas', 10)\n",
        ")\n",
        "print(sorted(students))\n",
        "print(sorted(students, key=lambda x: x[1]))"
      ],
      "metadata": {
        "id": "xTWadck42749",
        "colab": {
          "base_uri": "https://localhost:8080/"
        },
        "outputId": "d96f5b63-e031-4246-b3f5-c0d292b75615"
      },
      "execution_count": null,
      "outputs": [
        {
          "output_type": "stream",
          "name": "stdout",
          "text": [
            "[('Ankit', 45), ('Jubin', 50), ('Mohit', 30), ('Rahul', 20), ('Vikas', 10)]\n",
            "[('Vikas', 10), ('Rahul', 20), ('Mohit', 30), ('Ankit', 45), ('Jubin', 50)]\n"
          ]
        }
      ]
    },
    {
      "cell_type": "markdown",
      "source": [
        "9/ Write python program that uses map() to convert a list of temperature from celsius to fahrenheit."
      ],
      "metadata": {
        "id": "uV5Mu0ZA6Qu1"
      }
    },
    {
      "cell_type": "code",
      "source": [
        "def celcius_to_fahrenheit(celcius):\n",
        "  return (celcius * 9/5) + 32\n",
        "temperatures_celcius = [10,20,30,40,50]\n",
        "temperatures_fahrenheit = list(map(celcius_to_fahrenheit,temperatures_celcius))\n",
        "print(temperatures_fahrenheit)"
      ],
      "metadata": {
        "id": "xvI70a6Q6oLx",
        "colab": {
          "base_uri": "https://localhost:8080/"
        },
        "outputId": "fb6e0446-8689-4b36-ee21-b612a328d756"
      },
      "execution_count": null,
      "outputs": [
        {
          "output_type": "stream",
          "name": "stdout",
          "text": [
            "[50.0, 68.0, 86.0, 104.0, 122.0]\n"
          ]
        }
      ]
    },
    {
      "cell_type": "markdown",
      "source": [
        "10/ Create a python program that uses filter() to remove all the vowles from a given string."
      ],
      "metadata": {
        "id": "DpoX_CnS6o3n"
      }
    },
    {
      "cell_type": "code",
      "source": [
        "a_string = \"hello world love you\"\n",
        "vowel = ['a','e','i','o','u']\n",
        "def is_consonent(char):\n",
        "  return char.isalpha() and char.lower() not in vowel\n",
        "filtered_str = filter(is_consonent, a_string)\n",
        "\n",
        "only_consonent = ''.join(filtered_str)\n",
        "print(only_consonent)"
      ],
      "metadata": {
        "colab": {
          "base_uri": "https://localhost:8080/"
        },
        "id": "nERV6WJc8T6b",
        "outputId": "c294d418-43a7-4f70-d16c-7d48c2a65754"
      },
      "execution_count": null,
      "outputs": [
        {
          "output_type": "stream",
          "name": "stdout",
          "text": [
            "hllwrldlvy\n"
          ]
        }
      ]
    },
    {
      "cell_type": "markdown",
      "source": [
        "11/ write python program using lambda and map."
      ],
      "metadata": {
        "id": "PFOSCPtduxXd"
      }
    },
    {
      "cell_type": "code",
      "source": [
        "orders = [  [\"34587\", \"Learning Python, Mark Lutz\", 4, 40.95],\n",
        "[\"98762\", \"Programming Python, Mark Lutz\", 5, 56.80],\n",
        "[\"77226\", \"Head First Python, Paul Barry\", 3, 32.95],\n",
        "[\"88112\", \"Einfuhrung in Python3, Bernd Klein\", 3, 24.99] ]\n",
        "\n",
        "min_order = 100\n",
        "invoice_totals = list(map(lambda x: x if x[1] >= min_order else (x[0], x[1] + 10),\n",
        "\n",
        "                          map(lambda x: (x[0],x[2] * x[3]), orders)))\n",
        "print(invoice_totals)\n",
        "\n",
        "\n",
        "\n"
      ],
      "metadata": {
        "id": "jtsEU7reve5e",
        "colab": {
          "base_uri": "https://localhost:8080/"
        },
        "outputId": "d0a6c782-d8a0-48b9-d177-6a0e1a7ba565"
      },
      "execution_count": null,
      "outputs": [
        {
          "output_type": "stream",
          "name": "stdout",
          "text": [
            "[('34587', 163.8), ('98762', 284.0), ('77226', 108.85000000000001), ('88112', 84.97)]\n"
          ]
        }
      ]
    }
  ]
}